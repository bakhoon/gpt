{
 "cells": [
  {
   "cell_type": "code",
   "execution_count": 48,
   "id": "ab177a88",
   "metadata": {},
   "outputs": [
    {
     "name": "stdout",
     "output_type": "stream",
     "text": [
      "AI: \n",
      "        Here is what I know about the capital of Germany:\n",
      "        - The capital is Berlin.\n",
      "        - Berlin is known for its history, art, and vibrant nightlife.\n",
      "        - It is a cultural hub in Europe and has many museums, galleries, and theaters.\n",
      "        - Berlin is also a major political and economic center in Germany.\n",
      "        - The city has a diverse population and is known for its tolerance and creativity."
     ]
    },
    {
     "data": {
      "text/plain": [
       "AIMessageChunk(content='AI: \\n        Here is what I know about the capital of Germany:\\n        - The capital is Berlin.\\n        - Berlin is known for its history, art, and vibrant nightlife.\\n        - It is a cultural hub in Europe and has many museums, galleries, and theaters.\\n        - Berlin is also a major political and economic center in Germany.\\n        - The city has a diverse population and is known for its tolerance and creativity.')"
      ]
     },
     "execution_count": 48,
     "metadata": {},
     "output_type": "execute_result"
    }
   ],
   "source": [
    "from langchain.chat_models import ChatOpenAI\n",
    "from langchain.prompts import PromptTemplate\n",
    "from langchain.prompts.few_shot import FewShotPromptTemplate\n",
    "from langchain.callbacks import StreamingStdOutCallbackHandler\n",
    "\n",
    "chat = ChatOpenAI(\n",
    "    model=\"gpt-3.5-turbo\",\n",
    "    temperature=0.1,  # 온도 설정 (0.0 ~ 1.0)\n",
    "    streaming=True,\n",
    "    callbacks=[StreamingStdOutCallbackHandler()]\n",
    ")\n",
    "\n",
    "examples = [\n",
    "    {\n",
    "        \"question\": \"What is the capital of France?\",\n",
    "        \"answer\": \"\"\"\n",
    "        Here is what I know about the capital of France:\n",
    "        - The capital is Paris.\n",
    "        - It is known for the Eiffel Tower.\n",
    "        - Paris is also famous for its art, fashion, and culture.\n",
    "        - The city has a rich history and is a major European city.\n",
    "        - Paris is located in the north-central part of France.\n",
    "        \"\"\"\n",
    "    },\n",
    "    {\n",
    "        \"question\": \"What is the capital of Japan?\",\n",
    "        \"answer\": \"\"\"\n",
    "        Here is what I know about the capital of Japan:\n",
    "        - The capital is Tokyo.\n",
    "        - Tokyo is the most populous city in Japan.\n",
    "        - It is known for its modern architecture and bustling streets.\n",
    "        - Tokyo is also famous for its technology, fashion, and cuisine.\n",
    "        - The city has a rich cultural heritage and is a major economic center in Asia.\n",
    "        \"\"\"\n",
    "    }\n",
    "]\n",
    "\n",
    "example_template = \"\"\"\n",
    "    Human: {question}\n",
    "    AI: {answer}\n",
    "\"\"\"\n",
    "\n",
    "example_prompt = PromptTemplate.from_template(example_template)\n",
    "\n",
    "prompt = FewShotPromptTemplate(\n",
    "    examples=examples,\n",
    "    example_prompt=example_prompt,\n",
    "    suffix=\"Human: What is the capital of {country}?\",\n",
    "    input_variables=[\"country\"],\n",
    ")\n",
    "\n",
    "chain = prompt | chat\n",
    "\n",
    "chain.invoke({\n",
    "    \"country\": \"Germany\"\n",
    "})\n"
   ]
  }
 ],
 "metadata": {
  "kernelspec": {
   "display_name": "env (3.11.6)",
   "language": "python",
   "name": "python3"
  },
  "language_info": {
   "codemirror_mode": {
    "name": "ipython",
    "version": 3
   },
   "file_extension": ".py",
   "mimetype": "text/x-python",
   "name": "python",
   "nbconvert_exporter": "python",
   "pygments_lexer": "ipython3",
   "version": "3.11.6"
  }
 },
 "nbformat": 4,
 "nbformat_minor": 5
}
