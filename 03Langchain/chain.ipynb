{
 "cells": [
  {
   "cell_type": "code",
   "execution_count": null,
   "id": "7c880222",
   "metadata": {},
   "outputs": [],
   "source": []
  },
  {
   "cell_type": "code",
   "execution_count": null,
   "id": "59f7e163",
   "metadata": {},
   "outputs": [],
   "source": [
    "# from langchain.schema import HumanMessage, AIMessage, SystemMessage (ChatPromptTemplate 사용, 불필요)\n",
    "\n",
    "korean = \"다윗은 이스라엘의 왕이었고, 그의 통치 아래에서 이스라엘은 번영을 누렸습니다. 주님의 영이 그와 함께 하여 그의 통치가 강력하고 정의로웠습니다. 다윗은 또한 시편을 쓴 시인으로도 알려져 있습니다.\"\n",
    "\n",
    "templates = ChatPromptTemplate.from_messages([\n",
    "    (\"system\", \"You are a translator export. And you are only translating English with specific bible terms.\"),\n",
    "    (\"ai\", \"Sure! I can help with that. Please provide the text you would like to translate.\"),\n",
    "    (\"human\", \"Translate this to English: {speak}\"),\n",
    "    # SystemMessage(content=\"You are a translator export. And you are only translating English with specific bible terms.\"),\n",
    "    # AIMessage(content=\"Sure! I can help with that. Please provide the text you would like to translate.\"),\n",
    "    # HumanMessage(content=\"Translate this to English: {speak}\"),\n",
    "])\n",
    "\n",
    "prompt = templates.format_messages(speak=korean)\n",
    "# chat.predict_messages(formatted_messages)\n",
    "chat.predict_messages(prompt)"
   ]
  },
  {
   "cell_type": "code",
   "execution_count": null,
   "id": "753ea88e",
   "metadata": {},
   "outputs": [],
   "source": [
    "from langchain.schema import BaseOutputParser\n",
    "\n",
    "class CommaOutputParser(BaseOutputParser):\n",
    "    def parse(self, text: str):\n",
    "        items = text.strip().split(\",\")\n",
    "        return list(map(str.strip, items))\n",
    "    \n",
    "p = CommaOutputParser()\n",
    "\n",
    "p.parse(\"Hello, how, are, you\")"
   ]
  },
  {
   "cell_type": "code",
   "execution_count": null,
   "id": "5ac8fd92",
   "metadata": {},
   "outputs": [],
   "source": [
    "\n",
    "template = ChatPromptTemplate.from_messages([\n",
    "    (\"system\", \"You are a list generating machine. Everything you are asked will be answered with a comma separated list of max {max_items} in lowercase with random. DO NOT reply with anything else.\"),\n",
    "    # (\"ai\", \"Sure! I can help with that. Please provide the text you would like to translate.\"),\n",
    "    (\"human\", \"{question}\"),\n",
    "])\n",
    "\n",
    "# prompt = template.format_messages(\n",
    "#     question=\"What are the colors?\",\n",
    "#     max_items=10\n",
    "# )\n",
    "\n",
    "# result = chat.predict_messages(prompt)\n",
    "\n",
    "# p = CommaOutputParser()\n",
    "\n",
    "# p.parse(result.content)"
   ]
  },
  {
   "cell_type": "code",
   "execution_count": 40,
   "id": "e2579425",
   "metadata": {},
   "outputs": [
    {
     "data": {
      "text/plain": [
       "['pikachu',\n",
       " 'charmander',\n",
       " 'bulbasaur',\n",
       " 'squirtle',\n",
       " 'jigglypuff',\n",
       " 'eevee',\n",
       " 'snorlax',\n",
       " 'magikarp',\n",
       " 'mewtwo',\n",
       " 'psyduck']"
      ]
     },
     "execution_count": 40,
     "metadata": {},
     "output_type": "execute_result"
    }
   ],
   "source": [
    "chain = template | chat | CommaOutputParser()\n",
    "\n",
    "chain.invoke({\n",
    "    \"question\": \"What are the pokemons? Do it in random order.\",\n",
    "    \"max_items\": 10\n",
    "})"
   ]
  }
 ],
 "metadata": {
  "kernelspec": {
   "display_name": "env (3.11.6)",
   "language": "python",
   "name": "python3"
  },
  "language_info": {
   "codemirror_mode": {
    "name": "ipython",
    "version": 3
   },
   "file_extension": ".py",
   "mimetype": "text/x-python",
   "name": "python",
   "nbconvert_exporter": "python",
   "pygments_lexer": "ipython3",
   "version": "3.11.6"
  }
 },
 "nbformat": 4,
 "nbformat_minor": 5
}
