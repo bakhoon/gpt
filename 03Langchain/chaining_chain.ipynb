{
 "cells": [
  {
   "cell_type": "code",
   "execution_count": 45,
   "id": "ab177a88",
   "metadata": {},
   "outputs": [
    {
     "name": "stdout",
     "output_type": "stream",
     "text": [
      "That's great! Indian cuisine is known for its rich flavors and diverse range of dishes. Here are a few popular Indian recipes you can try:\n",
      "\n",
      "1. Butter Chicken: A creamy and flavorful chicken dish cooked in a rich tomato and butter sauce.\n",
      "\n",
      "2. Chana Masala: A spicy and tangy chickpea curry made with a blend of aromatic spices.\n",
      "\n",
      "3. Palak Paneer: A creamy spinach curry with cubes of paneer (Indian cottage cheese).\n",
      "\n",
      "4. Biryani: A fragrant and flavorful rice dish cooked with meat, vegetables, and a blend of spices.\n",
      "\n",
      "5. Aloo Gobi: A simple yet delicious dish made with potatoes and cauliflower cooked with spices.\n",
      "\n",
      "6. Dal Tadka: A comforting lentil curry tempered with aromatic spices.\n",
      "\n",
      "These are just a few examples, but there are countless other Indian dishes you can explore. Let me know if you need any specific recipes or cooking tips!For the Butter Chicken recipe, you can replace the chicken with paneer or tofu to make it vegetarian. To prepare paneer as a substitute for chicken, you can cut paneer into cubes and marinate it in a mixture of yogurt, ginger-garlic paste, garam masala, and a pinch of red chili powder. Then, you can grill or pan-fry the marinated paneer until it's golden brown before adding it to the buttery tomato sauce.\n",
      "\n",
      "For the Chana Masala recipe, you can simply omit the chicken and prepare the dish with chickpeas as the main protein source. You can use canned chickpeas or cook dried chickpeas until they are tender before adding them to the spicy and tangy tomato-based sauce.\n",
      "\n",
      "For the Palak Paneer recipe, you can keep the paneer cubes and replace the spinach with kale or Swiss chard. Simply blanch the kale or chard leaves in boiling water for a few minutes, then blend them into a smooth puree before adding it to the creamy curry sauce along with the paneer cubes.\n",
      "\n",
      "For the Aloo Gobi recipe, you can keep the potatoes and cauliflower as the main ingredients. To enhance the flavor, you can add some extra vegetables like peas or bell peppers to the dish. Make sure to cook the vegetables until they are tender and well-coated with the aromatic spices.\n",
      "\n",
      "For the Dal Tadka recipe, you can follow the traditional recipe for lentil curry and simply omit any meat-based ingredients. To add extra flavor, you can use a combination of different lentils such as red lentils, yellow lentils, and split chickpeas. Tempering the dal with aromatic spices like cumin seeds, mustard seeds, and dried red chilies will elevate the dish's taste.\n",
      "\n",
      "If you have any other specific Indian recipes in mind that you'd like to make vegetarian, feel free to ask for alternative ingredient suggestions!"
     ]
    },
    {
     "data": {
      "text/plain": [
       "AIMessageChunk(content=\"For the Butter Chicken recipe, you can replace the chicken with paneer or tofu to make it vegetarian. To prepare paneer as a substitute for chicken, you can cut paneer into cubes and marinate it in a mixture of yogurt, ginger-garlic paste, garam masala, and a pinch of red chili powder. Then, you can grill or pan-fry the marinated paneer until it's golden brown before adding it to the buttery tomato sauce.\\n\\nFor the Chana Masala recipe, you can simply omit the chicken and prepare the dish with chickpeas as the main protein source. You can use canned chickpeas or cook dried chickpeas until they are tender before adding them to the spicy and tangy tomato-based sauce.\\n\\nFor the Palak Paneer recipe, you can keep the paneer cubes and replace the spinach with kale or Swiss chard. Simply blanch the kale or chard leaves in boiling water for a few minutes, then blend them into a smooth puree before adding it to the creamy curry sauce along with the paneer cubes.\\n\\nFor the Aloo Gobi recipe, you can keep the potatoes and cauliflower as the main ingredients. To enhance the flavor, you can add some extra vegetables like peas or bell peppers to the dish. Make sure to cook the vegetables until they are tender and well-coated with the aromatic spices.\\n\\nFor the Dal Tadka recipe, you can follow the traditional recipe for lentil curry and simply omit any meat-based ingredients. To add extra flavor, you can use a combination of different lentils such as red lentils, yellow lentils, and split chickpeas. Tempering the dal with aromatic spices like cumin seeds, mustard seeds, and dried red chilies will elevate the dish's taste.\\n\\nIf you have any other specific Indian recipes in mind that you'd like to make vegetarian, feel free to ask for alternative ingredient suggestions!\")"
      ]
     },
     "execution_count": 45,
     "metadata": {},
     "output_type": "execute_result"
    }
   ],
   "source": [
    "from langchain.chat_models import ChatOpenAI\n",
    "from langchain.prompts import ChatPromptTemplate\n",
    "from langchain.callbacks import StreamingStdOutCallbackHandler\n",
    "\n",
    "chat = ChatOpenAI(\n",
    "    model=\"gpt-3.5-turbo\",\n",
    "    temperature=0.1,  # 온도 설정 (0.0 ~ 1.0)\n",
    "    streaming=True,\n",
    "    callbacks=[StreamingStdOutCallbackHandler()]\n",
    ")\n",
    "\n",
    "chef_prompt = ChatPromptTemplate.from_messages(\n",
    "    [\n",
    "        (\"system\", \"\"),\n",
    "        (\"human\", \"I want to cook {cuisuin} food.\"),\n",
    "    ]\n",
    ")\n",
    "\n",
    "veg_chef_prompt = ChatPromptTemplate.from_messages(\n",
    "    [\n",
    "        (\"system\", \"You area vegetarian chef specialized on making traditional recipies vegetarian. You find alternative ingrediens and explain their preparation. You don't radically modify the recipe. If there is no alternative for a food just say you don't know how to replace it.\"),\n",
    "        (\"human\", \"{recipe}\"),\n",
    "    ]\n",
    ")\n",
    "\n",
    "chef_chain = chef_prompt | chat\n",
    "veg_chain = veg_chef_prompt | chat\n",
    "\n",
    "final_chain = {\"recipe\": chef_chain} | veg_chain\n",
    "\n",
    "final_chain.invoke({\n",
    "    \"cuisuin\": \"indian\",\n",
    "})\n"
   ]
  }
 ],
 "metadata": {
  "kernelspec": {
   "display_name": "env (3.11.6)",
   "language": "python",
   "name": "python3"
  },
  "language_info": {
   "codemirror_mode": {
    "name": "ipython",
    "version": 3
   },
   "file_extension": ".py",
   "mimetype": "text/x-python",
   "name": "python",
   "nbconvert_exporter": "python",
   "pygments_lexer": "ipython3",
   "version": "3.11.6"
  }
 },
 "nbformat": 4,
 "nbformat_minor": 5
}
