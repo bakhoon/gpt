{
 "cells": [
  {
   "cell_type": "code",
   "execution_count": null,
   "id": "7c880222",
   "metadata": {},
   "outputs": [
    {
     "data": {
      "text/plain": [
       "'Hello'"
      ]
     },
     "execution_count": 11,
     "metadata": {},
     "output_type": "execute_result"
    }
   ],
   "source": [
    "from langchain.llms import OpenAI\n",
    "from langchain.chat_models import ChatOpenAI, ChatAnthropic\n",
    "from langchain.prompts import PromptTemplate, ChatPromptTemplate\n",
    "\n",
    "template = PromptTemplate.from_template(\n",
    "    \"Translate this to English: {speak}\"\n",
    ")\n",
    "\n",
    "korean = template.format(speak=\"안녕하세요\")\n",
    "\n",
    "# OpenAI는 completion 모델용 (text-davinci-003 등)\n",
    "# llm = OpenAI(model=\"gpt-3.5-turbo-instruct\")  # instruct 모델 사용\n",
    "\n",
    "# ChatOpenAI는 chat 모델용 (gpt-3.5-turbo, gpt-4 등)\n",
    "chat = ChatOpenAI(\n",
    "    model=\"gpt-3.5-turbo\",\n",
    "    temperature=0.1,  # 온도 설정 (0.0 ~ 1.0)\n",
    ")\n",
    "\n",
    "\n",
    "chat.predict(korean)\n",
    "# a = llm.predict(\"How many planets are there?\")\n",
    "# b = chat.predict(\"How many planets are there?\")\n"
   ]
  },
  {
   "cell_type": "code",
   "execution_count": 20,
   "id": "59f7e163",
   "metadata": {},
   "outputs": [
    {
     "data": {
      "text/plain": [
       "AIMessage(content='David was the king of Israel, and under his reign, Israel prospered. The spirit of the Lord was with him, making his rule strong and just. David is also known as a poet who wrote the Psalms.')"
      ]
     },
     "execution_count": 20,
     "metadata": {},
     "output_type": "execute_result"
    }
   ],
   "source": [
    "# from langchain.schema import HumanMessage, AIMessage, SystemMessage (ChatPromptTemplate 사용, 불필요)\n",
    "\n",
    "korean = \"다윗은 이스라엘의 왕이었고, 그의 통치 아래에서 이스라엘은 번영을 누렸습니다. 주님의 영이 그와 함께 하여 그의 통치가 강력하고 정의로웠습니다. 다윗은 또한 시편을 쓴 시인으로도 알려져 있습니다.\"\n",
    "\n",
    "templates = ChatPromptTemplate.from_messages([\n",
    "    (\"system\", \"You are a translator export. And you are only translating English with specific bible terms.\"),\n",
    "    (\"ai\", \"Sure! I can help with that. Please provide the text you would like to translate.\"),\n",
    "    (\"human\", \"Translate this to English: {speak}\"),\n",
    "    # SystemMessage(content=\"You are a translator export. And you are only translating English with specific bible terms.\"),\n",
    "    # AIMessage(content=\"Sure! I can help with that. Please provide the text you would like to translate.\"),\n",
    "    # HumanMessage(content=\"Translate this to English: {speak}\"),\n",
    "])\n",
    "\n",
    "prompt = templates.format_messages(speak=korean)\n",
    "# chat.predict_messages(formatted_messages)\n",
    "chat.predict_messages(prompt)"
   ]
  }
 ],
 "metadata": {
  "kernelspec": {
   "display_name": "env (3.11.6)",
   "language": "python",
   "name": "python3"
  },
  "language_info": {
   "codemirror_mode": {
    "name": "ipython",
    "version": 3
   },
   "file_extension": ".py",
   "mimetype": "text/x-python",
   "name": "python",
   "nbconvert_exporter": "python",
   "pygments_lexer": "ipython3",
   "version": "3.11.6"
  }
 },
 "nbformat": 4,
 "nbformat_minor": 5
}
